{
  "cells": [
    {
      "cell_type": "markdown",
      "metadata": {
        "colab_type": "text",
        "id": "view-in-github"
      },
      "source": [
        "<a href=\"https://colab.research.google.com/github/rakehsaleem/Crack-Detection-TF-1.x.x/blob/master/Mask_R_CNN.ipynb\" target=\"_parent\"><img src=\"https://colab.research.google.com/assets/colab-badge.svg\" alt=\"Open In Colab\"/></a>"
      ]
    },
    {
      "cell_type": "markdown",
      "metadata": {
        "id": "n60go_Aew75K"
      },
      "source": [
        "# **Mask R-CNN instance segmentation with custom dataset in Google Colab**\n",
        "\n",
        "Jupyter notebook providing steps to train a **Mask R-CNN** model with custom dataset. Requirements are only dataset images and annotations file which you can get it from [here](https://github.com/rakehsaleem/Crack-Detection-TF-1.x.x/releases/tag/v1.0)\n",
        "\n",
        "**Colab Runtime type: Python3, GPU enabled.**"
      ]
    },
    {
      "cell_type": "markdown",
      "metadata": {
        "id": "RZMAWAdyw6r6"
      },
      "source": [
        "#**Making Dataset**\n",
        "\n",
        "I generated dataset annotations with [VGG Image Annotator](https://www.robots.ox.ac.uk/~vgg/software/via/).\n",
        "\n",
        "Notebook train a model for one class object detection. It is possible to slightly modify notebook to train model for multiple classes.\n",
        "\n",
        "Before running notebook, we need to create dataset:\n",
        "\n",
        "1. Collect various pictures of objects to detect\n",
        "2. Create annotation files in VGG\n",
        "3. Create image.zip file having structure defined below\n",
        "4. Upload the zip file in your Google Drive\n",
        "\n",
        "Zip file structure:\n",
        "```\n",
        "images.zip\n",
        "|- \"train\" directory\n",
        "  |- jpg image files of training data\n",
        "  |- \"via_region_data.json\" annotations file of training data\n",
        "|- \"val\" directory\n",
        "  |- jpg image files of validation data\n",
        "  |- \"via_region_data.json\" annotations file of validation data\n",
        "```\n",
        "\n",
        "Check my image.zip file as dataset example.\n"
      ]
    },
    {
      "cell_type": "markdown",
      "metadata": {
        "id": "64i-i4ePyMGE"
      },
      "source": [
        "# Install required packages"
      ]
    },
    {
      "cell_type": "code",
      "execution_count": null,
      "metadata": {
        "colab": {
          "base_uri": "https://localhost:8080/"
        },
        "id": "aJZ_Ysm5yXzZ",
        "outputId": "80e4e7ab-1fc2-4ab6-826f-01fe4423b894"
      },
      "outputs": [],
      "source": [
        "# %cd\n",
        "\n",
        "# !git clone --quiet https://github.com/rakehsaleem/Crack-Detection-TF-1.x.x.git"
      ]
    },
    {
      "cell_type": "code",
      "execution_count": null,
      "metadata": {
        "colab": {
          "base_uri": "https://localhost:8080/"
        },
        "id": "0vVqqcnYzBHF",
        "outputId": "1c442218-f8de-412a-d14d-74319ab762fb"
      },
      "outputs": [],
      "source": [
        "# %cd ~/Crack-Detection-TF-1.x.x\n",
        "\n",
        "# !pip uninstall -y tensorflow\n",
        "# !pip install tensorflow==1.14.0\n",
        "# !pip install keras==2.2.4\n",
        "# import tensorflow as tf\n",
        "# print(tf.__version__)\n",
        "# !pip install -q PyDrive\n",
        "# !pip install -r requirements.txt\n",
        "# !python setup.py install"
      ]
    },
    {
      "cell_type": "markdown",
      "metadata": {
        "id": "Qi8kt-B7LL4H"
      },
      "source": [
        "**Dataset Preparation and set up locations**"
      ]
    },
    {
      "cell_type": "code",
      "execution_count": null,
      "metadata": {
        "colab": {
          "base_uri": "https://localhost:8080/"
        },
        "id": "Kpi1nmWO9mBf",
        "outputId": "61f2c48f-fa31-43ea-f9b2-f72cb32878c0"
      },
      "outputs": [],
      "source": [
        "%cd ~/Crack-Detection-TF-1.x.x\n",
        "fileId = '12bCRgVoRaegFY7xQ2h6qmFrMKz8AtLZt'\n",
        "\n",
        "import os\n",
        "from zipfile import ZipFile\n",
        "from shutil import copy\n",
        "from pydrive.auth import GoogleAuth\n",
        "from pydrive.drive import GoogleDrive\n",
        "from google.colab import auth\n",
        "from oauth2client.client import GoogleCredentials\n",
        "\n",
        "os.makedirs('dataset')\n",
        "os.chdir('dataset')\n",
        "\n",
        "auth.authenticate_user()\n",
        "gauth = GoogleAuth()\n",
        "gauth.credentials = GoogleCredentials.get_application_default()\n",
        "drive = GoogleDrive(gauth)\n",
        "\n",
        "fileName = fileId + '.zip'\n",
        "downloaded = drive.CreateFile({'id': fileId})\n",
        "downloaded.GetContentFile(fileName)\n",
        "ds = ZipFile(fileName)\n",
        "ds.extractall()\n",
        "os.remove(fileName)\n",
        "print('Extracted zip file ' + fileName)"
      ]
    },
    {
      "cell_type": "code",
      "execution_count": null,
      "metadata": {
        "colab": {
          "base_uri": "https://localhost:8080/"
        },
        "id": "7vVC8Q3F-P8W",
        "outputId": "bae5159b-9a80-43f7-828c-affdac6cde2b"
      },
      "outputs": [],
      "source": [
        "# %cd ~/Crack-Detection-TF-1.x.x\n",
        "\n",
        "# !cp ~/Crack-Detection-TF-1.x.x/crack/crack.py ./crack.py\n",
        "\n",
        "# !sed -i -- 's/epochs=30/epochs=5/g' crack.py"
      ]
    },
    {
      "cell_type": "markdown",
      "metadata": {
        "id": "d5cK4wDRLV3e"
      },
      "source": [
        "# Training Starts\n",
        "If for some reason you get error related to keras, locate the file with error and go to file line to modify these two lines:\n",
        "\n",
        "```\n",
        "original_keras_version = f.attrs['keras_version'].decode('utf8')\n",
        "original_backend = f.attrs['backend'].decode('utf8')\n",
        "\n",
        "to\n",
        "\n",
        "original_keras_version = f.attrs['keras_version']\n",
        "original_backend = f.attrs['backend']\n",
        "```"
      ]
    },
    {
      "cell_type": "code",
      "execution_count": null,
      "metadata": {
        "colab": {
          "base_uri": "https://localhost:8080/"
        },
        "id": "x64J6ppVA6-q",
        "outputId": "7f0bec48-6836-482e-a82a-129532cd31d1"
      },
      "outputs": [],
      "source": [
        "%cd ~/Crack-Detection-TF-1.x.x\n",
        "\n",
        "!python crack.py train --dataset=dataset/Dataset3 --weights=coco"
      ]
    }
  ],
  "metadata": {
    "colab": {
      "authorship_tag": "ABX9TyMTF3qhkUTbKRWNzCkFQkyr",
      "collapsed_sections": [],
      "include_colab_link": true,
      "name": "Mask R-CNN.ipynb",
      "provenance": []
    },
    "kernelspec": {
      "display_name": "Python 3",
      "name": "python3"
    },
    "language_info": {
      "codemirror_mode": {
        "name": "ipython",
        "version": 3
      },
      "file_extension": ".py",
      "mimetype": "text/x-python",
      "name": "python",
      "nbconvert_exporter": "python",
      "pygments_lexer": "ipython3",
      "version": "3.7.9"
    }
  },
  "nbformat": 4,
  "nbformat_minor": 0
}
